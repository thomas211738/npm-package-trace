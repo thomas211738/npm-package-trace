# Import necessary libraries
import pandas as pd
import matplotlib.pyplot as plt

# Load the dataset
df = pd.read_csv("direct_dependents_top500.csv")

# Sort by number of direct dependents in descending order
df_sorted = df.sort_values(by="num_direct_dependents", ascending=False)

# Select the top 10 most depended-on packages
top10 = df_sorted.head(10)

# Plot a bar chart
plt.figure(figsize=(12, 6))
plt.bar(top10["package_name"], top10["num_direct_dependents"], color='skyblue', edgecolor='black')

# Add titles and labels
plt.title("Top 10 Most Depended-on NPM Packages", fontsize=16, fontweight='bold')
plt.xlabel("Package Name", fontsize=12)
plt.ylabel("Number of Direct Dependents", fontsize=12)
plt.xticks(rotation=45, ha='right')
plt.grid(axis='y', linestyle='--', alpha=0.7)

# Display the plot
plt.tight_layout()
plt.show()
